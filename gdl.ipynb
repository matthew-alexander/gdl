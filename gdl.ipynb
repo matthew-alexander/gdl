{
 "cells": [
  {
   "cell_type": "code",
   "execution_count": 6,
   "metadata": {
    "collapsed": true
   },
   "outputs": [],
   "source": [
    "knob_weight = 0.5\n",
    "input = 0.5\n",
    "goal_prediction = 0.8 \n",
    "\n",
    "step_amount = 0.001\n",
    "\n",
    "display_step = 5"
   ]
  },
  {
   "cell_type": "markdown",
   "metadata": {},
   "source": [
    "## This is a form of gradient descent\n",
    "where we update the \"knob_weight\" with the \"direction\" and amount\n",
    "\n",
    "The key to learning is adjusting the weights in the correct *direction* and by the correct *amount* so that the **error** reduces to 0."
   ]
  },
  {
   "cell_type": "code",
   "execution_count": 7,
   "metadata": {
    "collapsed": false
   },
   "outputs": [
    {
     "name": "stdout",
     "output_type": "stream",
     "text": [
      "Iteration: 0 Error: 0.30250000000000005 Prediction: 0.25\n",
      "Iteration: 5 Error: 0.0170348381996155 Prediction: 0.669482421875\n",
      "Iteration: 10 Error: 0.0009592916115275371 Prediction: 0.76902756690979\n",
      "Iteration: 15 Error: 5.402108227642978e-05 Prediction: 0.7926500964444131\n",
      "Iteration: 20 Error: 3.0421170113954975e-06 Prediction: 0.7982558334335863\n",
      "Iteration: 25 Error: 1.7131230106922215e-07 Prediction: 0.7995861010980092\n",
      "Iteration: 30 Error: 9.647197786166859e-09 Prediction: 0.7999017798504066\n",
      "Iteration: 35 Error: 5.432676144338258e-10 Prediction: 0.7999766918980946\n",
      "Iteration: 40 Error: 3.059330879648423e-11 Prediction: 0.7999944688781612\n",
      "Iteration: 45 Error: 1.7228167450694004e-12 Prediction: 0.7999986874388605\n"
     ]
    }
   ],
   "source": [
    "for iteration in range(50):\n",
    "    \n",
    "    prediction = input *knob_weight\n",
    "    \n",
    "    # error = (goal_prediction-prediction) ** 2 \n",
    "    \n",
    "    error = (goal_prediction - (input * knob_weight)) ** 2\n",
    "\n",
    "    direction_and_amount = (goal_prediction - prediction) * input\n",
    "\n",
    "    knob_weight = knob_weight + direction_and_amount\n",
    "    \n",
    "    if iteration % display_step == 0:\n",
    "        print(\"Iteration: \" + str(iteration) + \" Error: \" + str(error) + \" Prediction: \" + str(prediction))\n",
    "\n",
    "  "
   ]
  },
  {
   "cell_type": "markdown",
   "metadata": {},
   "source": [
    "\n",
    "## The key concept: \n",
    "\n",
    "## \"Learning is adjusting our weight to reduce the error to zero\""
   ]
  },
  {
   "cell_type": "code",
   "execution_count": null,
   "metadata": {
    "collapsed": true
   },
   "outputs": [],
   "source": []
  }
 ],
 "metadata": {
  "anaconda-cloud": {},
  "kernelspec": {
   "display_name": "Python [conda root]",
   "language": "python",
   "name": "conda-root-py"
  },
  "language_info": {
   "codemirror_mode": {
    "name": "ipython",
    "version": 3
   },
   "file_extension": ".py",
   "mimetype": "text/x-python",
   "name": "python",
   "nbconvert_exporter": "python",
   "pygments_lexer": "ipython3",
   "version": "3.5.2"
  }
 },
 "nbformat": 4,
 "nbformat_minor": 1
}
