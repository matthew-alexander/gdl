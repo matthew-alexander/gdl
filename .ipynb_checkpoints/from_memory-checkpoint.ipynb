{
 "cells": [
  {
   "cell_type": "code",
   "execution_count": 14,
   "metadata": {
    "collapsed": false
   },
   "outputs": [
    {
     "name": "stdout",
     "output_type": "stream",
     "text": [
      "iteration: 0  error: 552.25  Prediciton: 1.5\n",
      "iteration: 1  error: 5.5225  Prediciton: 22.65\n",
      "iteration: 2  error: 0.0552  Prediciton: 24.765\n",
      "iteration: 3  error: 0.0006  Prediciton: 24.9765\n",
      "iteration: 4  error: 0.0  Prediciton: 24.9977\n",
      "iteration: 5  error: 0.0  Prediciton: 24.9998\n",
      "iteration: 6  error: 0.0  Prediciton: 25.0\n",
      "iteration: 7  error: 0.0  Prediciton: 25.0\n",
      "iteration: 8  error: 0.0  Prediciton: 25.0\n",
      "iteration: 9  error: 0.0  Prediciton: 25.0\n",
      "iteration: 10  error: 0.0  Prediciton: 25.0\n",
      "iteration: 11  error: 0.0  Prediciton: 25.0\n",
      "iteration: 12  error: 0.0  Prediciton: 25.0\n",
      "iteration: 13  error: 0.0  Prediciton: 25.0\n",
      "iteration: 14  error: 0.0  Prediciton: 25.0\n",
      "iteration: 15  error: 0.0  Prediciton: 25.0\n",
      "iteration: 16  error: 0.0  Prediciton: 25.0\n",
      "iteration: 17  error: 0.0  Prediciton: 25.0\n",
      "iteration: 18  error: 0.0  Prediciton: 25.0\n",
      "iteration: 19  error: 0.0  Prediciton: 25.0\n"
     ]
    }
   ],
   "source": [
    "input = 3\n",
    "goal = 25\n",
    "\n",
    "# you need something for the weight. here is a weight, initialized\n",
    "weight = 0.5\n",
    "step_amount = 0.1\n",
    "alpha = .1\n",
    "\n",
    "for iteration in range(20):\n",
    "    \n",
    "    prediction = input * weight\n",
    "    error = (goal - prediction) ** 2\n",
    "\n",
    "    derivative = (goal -prediction) * input\n",
    "\n",
    "    weight = weight + derivative * alpha\n",
    "    \n",
    "    print(\"iteration: \" + str(iteration) + \"  error: \" + str(round(error,4)) + \"  Prediciton: \" +\n",
    "         str(round(prediction, 4)))\n",
    "\n",
    "\n"
   ]
  },
  {
   "cell_type": "code",
   "execution_count": null,
   "metadata": {
    "collapsed": true
   },
   "outputs": [],
   "source": []
  }
 ],
 "metadata": {
  "anaconda-cloud": {},
  "kernelspec": {
   "display_name": "Python [conda root]",
   "language": "python",
   "name": "conda-root-py"
  },
  "language_info": {
   "codemirror_mode": {
    "name": "ipython",
    "version": 2
   },
   "file_extension": ".py",
   "mimetype": "text/x-python",
   "name": "python",
   "nbconvert_exporter": "python",
   "pygments_lexer": "ipython2",
   "version": "2.7.12"
  }
 },
 "nbformat": 4,
 "nbformat_minor": 1
}
